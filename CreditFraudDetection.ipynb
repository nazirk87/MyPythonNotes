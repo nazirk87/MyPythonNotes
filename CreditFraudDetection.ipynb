{
 "cells": [
  {
   "cell_type": "code",
   "execution_count": 2,
   "metadata": {},
   "outputs": [],
   "source": [
    "# Generic library\n",
    "import numpy as np\n",
    "import pandas as pd\n",
    "import matplotlib.pyplot as plt\n",
    "%matplotlib inline\n",
    "import seaborn as sns"
   ]
  },
  {
   "cell_type": "code",
   "execution_count": 3,
   "metadata": {},
   "outputs": [],
   "source": [
    "train_df=pd.read_csv(\"C:/Users/Nagi/Documents/Hackathon_20190916/Hackathon/CreditCardFraud/credit_train.csv\")\n",
    "test_df=pd.read_csv(\"C:/Users/Nagi/Documents/Hackathon_20190916/Hackathon/CreditCardFraud/credit_test.csv\")"
   ]
  },
  {
   "cell_type": "code",
   "execution_count": 75,
   "metadata": {},
   "outputs": [
    {
     "data": {
      "text/plain": [
       "'0'    227455\n",
       "'1'       390\n",
       "Name: Class, dtype: int64"
      ]
     },
     "execution_count": 75,
     "metadata": {},
     "output_type": "execute_result"
    }
   ],
   "source": [
    "train_df['Class'].value_counts()"
   ]
  },
  {
   "cell_type": "code",
   "execution_count": 4,
   "metadata": {},
   "outputs": [
    {
     "name": "stdout",
     "output_type": "stream",
     "text": [
      "Train size : rows 227845  and columns 30\n",
      "Test size : rows 56962  and columns 30\n"
     ]
    }
   ],
   "source": [
    "print(\"Train size : rows\",train_df.shape[0],\" and columns\",train_df.shape[1])\n",
    "print(\"Test size : rows\",test_df.shape[0],\" and columns\",test_df.shape[1])"
   ]
  },
  {
   "cell_type": "code",
   "execution_count": 5,
   "metadata": {},
   "outputs": [
    {
     "data": {
      "text/plain": [
       "Index(['V1', 'V2', 'V3', 'V4', 'V5', 'V6', 'V7', 'V8', 'V9', 'V10', 'V11',\n",
       "       'V12', 'V13', 'V14', 'V15', 'V16', 'V17', 'V18', 'V19', 'V20', 'V21',\n",
       "       'V22', 'V23', 'V24', 'V25', 'V26', 'V27', 'V28', 'Amount', 'Class'],\n",
       "      dtype='object')"
      ]
     },
     "execution_count": 5,
     "metadata": {},
     "output_type": "execute_result"
    }
   ],
   "source": [
    "train_df.columns"
   ]
  },
  {
   "cell_type": "code",
   "execution_count": 6,
   "metadata": {},
   "outputs": [
    {
     "data": {
      "text/plain": [
       "Index([], dtype='object')"
      ]
     },
     "execution_count": 6,
     "metadata": {},
     "output_type": "execute_result"
    }
   ],
   "source": [
    "train_df.columns.difference(test_df.columns)"
   ]
  },
  {
   "cell_type": "code",
   "execution_count": 7,
   "metadata": {},
   "outputs": [],
   "source": [
    "train_df[\"source\"] = \"train\"\n",
    "test_df[\"source\"] = \"test\""
   ]
  },
  {
   "cell_type": "code",
   "execution_count": 8,
   "metadata": {},
   "outputs": [],
   "source": [
    "test_df = test_df.drop(columns=[\"Class\"])"
   ]
  },
  {
   "cell_type": "code",
   "execution_count": 9,
   "metadata": {},
   "outputs": [
    {
     "name": "stderr",
     "output_type": "stream",
     "text": [
      "C:\\Users\\Nagi\\Anaconda3\\lib\\site-packages\\ipykernel_launcher.py:1: FutureWarning: Sorting because non-concatenation axis is not aligned. A future version\n",
      "of pandas will change to not sort by default.\n",
      "\n",
      "To accept the future behavior, pass 'sort=False'.\n",
      "\n",
      "To retain the current behavior and silence the warning, pass 'sort=True'.\n",
      "\n",
      "  \"\"\"Entry point for launching an IPython kernel.\n"
     ]
    }
   ],
   "source": [
    "df = pd.concat([train_df,test_df])"
   ]
  },
  {
   "cell_type": "code",
   "execution_count": 10,
   "metadata": {},
   "outputs": [
    {
     "data": {
      "text/plain": [
       "Amount    float64\n",
       "Class      object\n",
       "V1        float64\n",
       "V10       float64\n",
       "V11       float64\n",
       "V12       float64\n",
       "V13       float64\n",
       "V14       float64\n",
       "V15       float64\n",
       "V16       float64\n",
       "V17       float64\n",
       "V18       float64\n",
       "V19       float64\n",
       "V2        float64\n",
       "V20       float64\n",
       "V21       float64\n",
       "V22       float64\n",
       "V23       float64\n",
       "V24       float64\n",
       "V25       float64\n",
       "V26       float64\n",
       "V27       float64\n",
       "V28       float64\n",
       "V3        float64\n",
       "V4        float64\n",
       "V5        float64\n",
       "V6        float64\n",
       "V7        float64\n",
       "V8        float64\n",
       "V9        float64\n",
       "source     object\n",
       "dtype: object"
      ]
     },
     "execution_count": 10,
     "metadata": {},
     "output_type": "execute_result"
    }
   ],
   "source": [
    "df.dtypes"
   ]
  },
  {
   "cell_type": "code",
   "execution_count": 11,
   "metadata": {},
   "outputs": [
    {
     "data": {
      "text/plain": [
       "(284807, 31)"
      ]
     },
     "execution_count": 11,
     "metadata": {},
     "output_type": "execute_result"
    }
   ],
   "source": [
    "df.shape"
   ]
  },
  {
   "cell_type": "code",
   "execution_count": 12,
   "metadata": {},
   "outputs": [
    {
     "data": {
      "text/html": [
       "<div>\n",
       "<style scoped>\n",
       "    .dataframe tbody tr th:only-of-type {\n",
       "        vertical-align: middle;\n",
       "    }\n",
       "\n",
       "    .dataframe tbody tr th {\n",
       "        vertical-align: top;\n",
       "    }\n",
       "\n",
       "    .dataframe thead th {\n",
       "        text-align: right;\n",
       "    }\n",
       "</style>\n",
       "<table border=\"1\" class=\"dataframe\">\n",
       "  <thead>\n",
       "    <tr style=\"text-align: right;\">\n",
       "      <th></th>\n",
       "      <th>count</th>\n",
       "      <th>mean</th>\n",
       "      <th>std</th>\n",
       "      <th>min</th>\n",
       "      <th>25%</th>\n",
       "      <th>50%</th>\n",
       "      <th>75%</th>\n",
       "      <th>max</th>\n",
       "    </tr>\n",
       "  </thead>\n",
       "  <tbody>\n",
       "    <tr>\n",
       "      <th>Amount</th>\n",
       "      <td>284807.0</td>\n",
       "      <td>8.834962e+01</td>\n",
       "      <td>250.120109</td>\n",
       "      <td>0.000000</td>\n",
       "      <td>5.600000</td>\n",
       "      <td>22.000000</td>\n",
       "      <td>77.165000</td>\n",
       "      <td>25691.160000</td>\n",
       "    </tr>\n",
       "    <tr>\n",
       "      <th>V1</th>\n",
       "      <td>284807.0</td>\n",
       "      <td>1.149913e-15</td>\n",
       "      <td>1.958696</td>\n",
       "      <td>-56.407510</td>\n",
       "      <td>-0.920373</td>\n",
       "      <td>0.018109</td>\n",
       "      <td>1.315642</td>\n",
       "      <td>2.454930</td>\n",
       "    </tr>\n",
       "    <tr>\n",
       "      <th>V10</th>\n",
       "      <td>284807.0</td>\n",
       "      <td>2.256948e-15</td>\n",
       "      <td>1.088850</td>\n",
       "      <td>-24.588262</td>\n",
       "      <td>-0.535426</td>\n",
       "      <td>-0.092917</td>\n",
       "      <td>0.453923</td>\n",
       "      <td>23.745136</td>\n",
       "    </tr>\n",
       "    <tr>\n",
       "      <th>V11</th>\n",
       "      <td>284807.0</td>\n",
       "      <td>1.703959e-15</td>\n",
       "      <td>1.020713</td>\n",
       "      <td>-4.797473</td>\n",
       "      <td>-0.762494</td>\n",
       "      <td>-0.032757</td>\n",
       "      <td>0.739593</td>\n",
       "      <td>12.018913</td>\n",
       "    </tr>\n",
       "    <tr>\n",
       "      <th>V12</th>\n",
       "      <td>284807.0</td>\n",
       "      <td>-1.237276e-15</td>\n",
       "      <td>0.999201</td>\n",
       "      <td>-18.683715</td>\n",
       "      <td>-0.405571</td>\n",
       "      <td>0.140033</td>\n",
       "      <td>0.618238</td>\n",
       "      <td>7.848392</td>\n",
       "    </tr>\n",
       "    <tr>\n",
       "      <th>V13</th>\n",
       "      <td>284807.0</td>\n",
       "      <td>8.420710e-16</td>\n",
       "      <td>0.995274</td>\n",
       "      <td>-5.791881</td>\n",
       "      <td>-0.648539</td>\n",
       "      <td>-0.013568</td>\n",
       "      <td>0.662505</td>\n",
       "      <td>7.126883</td>\n",
       "    </tr>\n",
       "    <tr>\n",
       "      <th>V14</th>\n",
       "      <td>284807.0</td>\n",
       "      <td>1.201584e-15</td>\n",
       "      <td>0.958596</td>\n",
       "      <td>-19.214325</td>\n",
       "      <td>-0.425574</td>\n",
       "      <td>0.050601</td>\n",
       "      <td>0.493150</td>\n",
       "      <td>10.526766</td>\n",
       "    </tr>\n",
       "    <tr>\n",
       "      <th>V15</th>\n",
       "      <td>284807.0</td>\n",
       "      <td>4.901287e-15</td>\n",
       "      <td>0.915316</td>\n",
       "      <td>-4.498945</td>\n",
       "      <td>-0.582884</td>\n",
       "      <td>0.048072</td>\n",
       "      <td>0.648821</td>\n",
       "      <td>8.877742</td>\n",
       "    </tr>\n",
       "    <tr>\n",
       "      <th>V16</th>\n",
       "      <td>284807.0</td>\n",
       "      <td>1.445752e-15</td>\n",
       "      <td>0.876253</td>\n",
       "      <td>-14.129855</td>\n",
       "      <td>-0.468037</td>\n",
       "      <td>0.066413</td>\n",
       "      <td>0.523296</td>\n",
       "      <td>17.315112</td>\n",
       "    </tr>\n",
       "    <tr>\n",
       "      <th>V17</th>\n",
       "      <td>284807.0</td>\n",
       "      <td>-3.627604e-16</td>\n",
       "      <td>0.849337</td>\n",
       "      <td>-25.162799</td>\n",
       "      <td>-0.483748</td>\n",
       "      <td>-0.065676</td>\n",
       "      <td>0.399675</td>\n",
       "      <td>9.253526</td>\n",
       "    </tr>\n",
       "    <tr>\n",
       "      <th>V18</th>\n",
       "      <td>284807.0</td>\n",
       "      <td>9.460330e-16</td>\n",
       "      <td>0.838176</td>\n",
       "      <td>-9.498746</td>\n",
       "      <td>-0.498850</td>\n",
       "      <td>-0.003636</td>\n",
       "      <td>0.500807</td>\n",
       "      <td>5.041069</td>\n",
       "    </tr>\n",
       "    <tr>\n",
       "      <th>V19</th>\n",
       "      <td>284807.0</td>\n",
       "      <td>1.051998e-15</td>\n",
       "      <td>0.814041</td>\n",
       "      <td>-7.213527</td>\n",
       "      <td>-0.456299</td>\n",
       "      <td>0.003735</td>\n",
       "      <td>0.458949</td>\n",
       "      <td>5.591971</td>\n",
       "    </tr>\n",
       "    <tr>\n",
       "      <th>V2</th>\n",
       "      <td>284807.0</td>\n",
       "      <td>3.343825e-16</td>\n",
       "      <td>1.651309</td>\n",
       "      <td>-72.715728</td>\n",
       "      <td>-0.598550</td>\n",
       "      <td>0.065486</td>\n",
       "      <td>0.803724</td>\n",
       "      <td>22.057729</td>\n",
       "    </tr>\n",
       "    <tr>\n",
       "      <th>V20</th>\n",
       "      <td>284807.0</td>\n",
       "      <td>6.499475e-16</td>\n",
       "      <td>0.770925</td>\n",
       "      <td>-54.497720</td>\n",
       "      <td>-0.211721</td>\n",
       "      <td>-0.062481</td>\n",
       "      <td>0.133041</td>\n",
       "      <td>39.420904</td>\n",
       "    </tr>\n",
       "    <tr>\n",
       "      <th>V21</th>\n",
       "      <td>284807.0</td>\n",
       "      <td>1.525166e-16</td>\n",
       "      <td>0.734524</td>\n",
       "      <td>-34.830382</td>\n",
       "      <td>-0.228395</td>\n",
       "      <td>-0.029450</td>\n",
       "      <td>0.186377</td>\n",
       "      <td>27.202839</td>\n",
       "    </tr>\n",
       "    <tr>\n",
       "      <th>V22</th>\n",
       "      <td>284807.0</td>\n",
       "      <td>-3.424988e-16</td>\n",
       "      <td>0.725702</td>\n",
       "      <td>-10.933144</td>\n",
       "      <td>-0.542350</td>\n",
       "      <td>0.006782</td>\n",
       "      <td>0.528554</td>\n",
       "      <td>10.503090</td>\n",
       "    </tr>\n",
       "    <tr>\n",
       "      <th>V23</th>\n",
       "      <td>284807.0</td>\n",
       "      <td>2.765342e-16</td>\n",
       "      <td>0.624460</td>\n",
       "      <td>-44.807735</td>\n",
       "      <td>-0.161846</td>\n",
       "      <td>-0.011193</td>\n",
       "      <td>0.147642</td>\n",
       "      <td>22.528412</td>\n",
       "    </tr>\n",
       "    <tr>\n",
       "      <th>V24</th>\n",
       "      <td>284807.0</td>\n",
       "      <td>4.491545e-15</td>\n",
       "      <td>0.605647</td>\n",
       "      <td>-2.836627</td>\n",
       "      <td>-0.354586</td>\n",
       "      <td>0.040976</td>\n",
       "      <td>0.439527</td>\n",
       "      <td>4.584549</td>\n",
       "    </tr>\n",
       "    <tr>\n",
       "      <th>V25</th>\n",
       "      <td>284807.0</td>\n",
       "      <td>5.149942e-16</td>\n",
       "      <td>0.521278</td>\n",
       "      <td>-10.295397</td>\n",
       "      <td>-0.317145</td>\n",
       "      <td>0.016594</td>\n",
       "      <td>0.350716</td>\n",
       "      <td>7.519589</td>\n",
       "    </tr>\n",
       "    <tr>\n",
       "      <th>V26</th>\n",
       "      <td>284807.0</td>\n",
       "      <td>1.694293e-15</td>\n",
       "      <td>0.482227</td>\n",
       "      <td>-2.604551</td>\n",
       "      <td>-0.326984</td>\n",
       "      <td>-0.052139</td>\n",
       "      <td>0.240952</td>\n",
       "      <td>3.517346</td>\n",
       "    </tr>\n",
       "    <tr>\n",
       "      <th>V27</th>\n",
       "      <td>284807.0</td>\n",
       "      <td>-3.742146e-16</td>\n",
       "      <td>0.403632</td>\n",
       "      <td>-22.565679</td>\n",
       "      <td>-0.070840</td>\n",
       "      <td>0.001342</td>\n",
       "      <td>0.091045</td>\n",
       "      <td>31.612198</td>\n",
       "    </tr>\n",
       "    <tr>\n",
       "      <th>V28</th>\n",
       "      <td>284807.0</td>\n",
       "      <td>-1.182487e-16</td>\n",
       "      <td>0.330083</td>\n",
       "      <td>-15.430084</td>\n",
       "      <td>-0.052960</td>\n",
       "      <td>0.011244</td>\n",
       "      <td>0.078280</td>\n",
       "      <td>33.847808</td>\n",
       "    </tr>\n",
       "    <tr>\n",
       "      <th>V3</th>\n",
       "      <td>284807.0</td>\n",
       "      <td>-1.419190e-15</td>\n",
       "      <td>1.516255</td>\n",
       "      <td>-48.325589</td>\n",
       "      <td>-0.890365</td>\n",
       "      <td>0.179846</td>\n",
       "      <td>1.027196</td>\n",
       "      <td>9.382558</td>\n",
       "    </tr>\n",
       "    <tr>\n",
       "      <th>V4</th>\n",
       "      <td>284807.0</td>\n",
       "      <td>2.073862e-15</td>\n",
       "      <td>1.415869</td>\n",
       "      <td>-5.683171</td>\n",
       "      <td>-0.848640</td>\n",
       "      <td>-0.019847</td>\n",
       "      <td>0.743341</td>\n",
       "      <td>16.875344</td>\n",
       "    </tr>\n",
       "    <tr>\n",
       "      <th>V5</th>\n",
       "      <td>284807.0</td>\n",
       "      <td>9.978906e-16</td>\n",
       "      <td>1.380247</td>\n",
       "      <td>-113.743307</td>\n",
       "      <td>-0.691597</td>\n",
       "      <td>-0.054336</td>\n",
       "      <td>0.611926</td>\n",
       "      <td>34.801666</td>\n",
       "    </tr>\n",
       "    <tr>\n",
       "      <th>V6</th>\n",
       "      <td>284807.0</td>\n",
       "      <td>1.484022e-15</td>\n",
       "      <td>1.332271</td>\n",
       "      <td>-26.160506</td>\n",
       "      <td>-0.768296</td>\n",
       "      <td>-0.274187</td>\n",
       "      <td>0.398565</td>\n",
       "      <td>73.301626</td>\n",
       "    </tr>\n",
       "    <tr>\n",
       "      <th>V7</th>\n",
       "      <td>284807.0</td>\n",
       "      <td>-5.807513e-16</td>\n",
       "      <td>1.237094</td>\n",
       "      <td>-43.557242</td>\n",
       "      <td>-0.554076</td>\n",
       "      <td>0.040103</td>\n",
       "      <td>0.570436</td>\n",
       "      <td>120.589494</td>\n",
       "    </tr>\n",
       "    <tr>\n",
       "      <th>V8</th>\n",
       "      <td>284807.0</td>\n",
       "      <td>1.046980e-16</td>\n",
       "      <td>1.194353</td>\n",
       "      <td>-73.216718</td>\n",
       "      <td>-0.208630</td>\n",
       "      <td>0.022358</td>\n",
       "      <td>0.327346</td>\n",
       "      <td>20.007208</td>\n",
       "    </tr>\n",
       "    <tr>\n",
       "      <th>V9</th>\n",
       "      <td>284807.0</td>\n",
       "      <td>-2.403095e-15</td>\n",
       "      <td>1.098632</td>\n",
       "      <td>-13.434066</td>\n",
       "      <td>-0.643098</td>\n",
       "      <td>-0.051429</td>\n",
       "      <td>0.597139</td>\n",
       "      <td>15.594995</td>\n",
       "    </tr>\n",
       "  </tbody>\n",
       "</table>\n",
       "</div>"
      ],
      "text/plain": [
       "           count          mean         std         min       25%        50%  \\\n",
       "Amount  284807.0  8.834962e+01  250.120109    0.000000  5.600000  22.000000   \n",
       "V1      284807.0  1.149913e-15    1.958696  -56.407510 -0.920373   0.018109   \n",
       "V10     284807.0  2.256948e-15    1.088850  -24.588262 -0.535426  -0.092917   \n",
       "V11     284807.0  1.703959e-15    1.020713   -4.797473 -0.762494  -0.032757   \n",
       "V12     284807.0 -1.237276e-15    0.999201  -18.683715 -0.405571   0.140033   \n",
       "V13     284807.0  8.420710e-16    0.995274   -5.791881 -0.648539  -0.013568   \n",
       "V14     284807.0  1.201584e-15    0.958596  -19.214325 -0.425574   0.050601   \n",
       "V15     284807.0  4.901287e-15    0.915316   -4.498945 -0.582884   0.048072   \n",
       "V16     284807.0  1.445752e-15    0.876253  -14.129855 -0.468037   0.066413   \n",
       "V17     284807.0 -3.627604e-16    0.849337  -25.162799 -0.483748  -0.065676   \n",
       "V18     284807.0  9.460330e-16    0.838176   -9.498746 -0.498850  -0.003636   \n",
       "V19     284807.0  1.051998e-15    0.814041   -7.213527 -0.456299   0.003735   \n",
       "V2      284807.0  3.343825e-16    1.651309  -72.715728 -0.598550   0.065486   \n",
       "V20     284807.0  6.499475e-16    0.770925  -54.497720 -0.211721  -0.062481   \n",
       "V21     284807.0  1.525166e-16    0.734524  -34.830382 -0.228395  -0.029450   \n",
       "V22     284807.0 -3.424988e-16    0.725702  -10.933144 -0.542350   0.006782   \n",
       "V23     284807.0  2.765342e-16    0.624460  -44.807735 -0.161846  -0.011193   \n",
       "V24     284807.0  4.491545e-15    0.605647   -2.836627 -0.354586   0.040976   \n",
       "V25     284807.0  5.149942e-16    0.521278  -10.295397 -0.317145   0.016594   \n",
       "V26     284807.0  1.694293e-15    0.482227   -2.604551 -0.326984  -0.052139   \n",
       "V27     284807.0 -3.742146e-16    0.403632  -22.565679 -0.070840   0.001342   \n",
       "V28     284807.0 -1.182487e-16    0.330083  -15.430084 -0.052960   0.011244   \n",
       "V3      284807.0 -1.419190e-15    1.516255  -48.325589 -0.890365   0.179846   \n",
       "V4      284807.0  2.073862e-15    1.415869   -5.683171 -0.848640  -0.019847   \n",
       "V5      284807.0  9.978906e-16    1.380247 -113.743307 -0.691597  -0.054336   \n",
       "V6      284807.0  1.484022e-15    1.332271  -26.160506 -0.768296  -0.274187   \n",
       "V7      284807.0 -5.807513e-16    1.237094  -43.557242 -0.554076   0.040103   \n",
       "V8      284807.0  1.046980e-16    1.194353  -73.216718 -0.208630   0.022358   \n",
       "V9      284807.0 -2.403095e-15    1.098632  -13.434066 -0.643098  -0.051429   \n",
       "\n",
       "              75%           max  \n",
       "Amount  77.165000  25691.160000  \n",
       "V1       1.315642      2.454930  \n",
       "V10      0.453923     23.745136  \n",
       "V11      0.739593     12.018913  \n",
       "V12      0.618238      7.848392  \n",
       "V13      0.662505      7.126883  \n",
       "V14      0.493150     10.526766  \n",
       "V15      0.648821      8.877742  \n",
       "V16      0.523296     17.315112  \n",
       "V17      0.399675      9.253526  \n",
       "V18      0.500807      5.041069  \n",
       "V19      0.458949      5.591971  \n",
       "V2       0.803724     22.057729  \n",
       "V20      0.133041     39.420904  \n",
       "V21      0.186377     27.202839  \n",
       "V22      0.528554     10.503090  \n",
       "V23      0.147642     22.528412  \n",
       "V24      0.439527      4.584549  \n",
       "V25      0.350716      7.519589  \n",
       "V26      0.240952      3.517346  \n",
       "V27      0.091045     31.612198  \n",
       "V28      0.078280     33.847808  \n",
       "V3       1.027196      9.382558  \n",
       "V4       0.743341     16.875344  \n",
       "V5       0.611926     34.801666  \n",
       "V6       0.398565     73.301626  \n",
       "V7       0.570436    120.589494  \n",
       "V8       0.327346     20.007208  \n",
       "V9       0.597139     15.594995  "
      ]
     },
     "execution_count": 12,
     "metadata": {},
     "output_type": "execute_result"
    }
   ],
   "source": [
    "df.describe().transpose()"
   ]
  },
  {
   "cell_type": "code",
   "execution_count": 13,
   "metadata": {},
   "outputs": [
    {
     "data": {
      "text/plain": [
       "7101"
      ]
     },
     "execution_count": 13,
     "metadata": {},
     "output_type": "execute_result"
    }
   ],
   "source": [
    "df.duplicated().sum()"
   ]
  },
  {
   "cell_type": "code",
   "execution_count": 14,
   "metadata": {},
   "outputs": [
    {
     "data": {
      "text/plain": [
       "Amount        0\n",
       "Class     56962\n",
       "V1            0\n",
       "V10           0\n",
       "V11           0\n",
       "V12           0\n",
       "V13           0\n",
       "V14           0\n",
       "V15           0\n",
       "V16           0\n",
       "V17           0\n",
       "V18           0\n",
       "V19           0\n",
       "V2            0\n",
       "V20           0\n",
       "V21           0\n",
       "V22           0\n",
       "V23           0\n",
       "V24           0\n",
       "V25           0\n",
       "V26           0\n",
       "V27           0\n",
       "V28           0\n",
       "V3            0\n",
       "V4            0\n",
       "V5            0\n",
       "V6            0\n",
       "V7            0\n",
       "V8            0\n",
       "V9            0\n",
       "source        0\n",
       "dtype: int64"
      ]
     },
     "execution_count": 14,
     "metadata": {},
     "output_type": "execute_result"
    }
   ],
   "source": [
    "df.isna().sum()"
   ]
  },
  {
   "cell_type": "code",
   "execution_count": 15,
   "metadata": {},
   "outputs": [],
   "source": [
    "df.drop_duplicates(inplace=True)"
   ]
  },
  {
   "cell_type": "code",
   "execution_count": 16,
   "metadata": {},
   "outputs": [],
   "source": [
    "def split_dataframe(df,split_size):\n",
    "    col_lst=df.columns.drop([\"Class\",\"source\"]) \n",
    "    n=split_size\n",
    "    final = [col_lst[i * n:(i + 1) * n] for i in range((len(col_lst) + n - 1) // n )] \n",
    "    return final"
   ]
  },
  {
   "cell_type": "code",
   "execution_count": 17,
   "metadata": {},
   "outputs": [
    {
     "name": "stdout",
     "output_type": "stream",
     "text": [
      "Index(['Amount', 'V1', 'V10', 'V11', 'V12'], dtype='object')\n",
      "Index(['V13', 'V14', 'V15', 'V16', 'V17'], dtype='object')\n",
      "Index(['V18', 'V19', 'V2', 'V20', 'V21'], dtype='object')\n",
      "Index(['V22', 'V23', 'V24', 'V25', 'V26'], dtype='object')\n",
      "Index(['V27', 'V28', 'V3', 'V4', 'V5'], dtype='object')\n",
      "Index(['V6', 'V7', 'V8', 'V9'], dtype='object')\n"
     ]
    }
   ],
   "source": [
    "x=split_dataframe(df,5)\n",
    "for i in x:\n",
    "    print(i)"
   ]
  },
  {
   "cell_type": "code",
   "execution_count": 18,
   "metadata": {},
   "outputs": [
    {
     "data": {
      "text/html": [
       "<div>\n",
       "<style scoped>\n",
       "    .dataframe tbody tr th:only-of-type {\n",
       "        vertical-align: middle;\n",
       "    }\n",
       "\n",
       "    .dataframe tbody tr th {\n",
       "        vertical-align: top;\n",
       "    }\n",
       "\n",
       "    .dataframe thead th {\n",
       "        text-align: right;\n",
       "    }\n",
       "</style>\n",
       "<table border=\"1\" class=\"dataframe\">\n",
       "  <thead>\n",
       "    <tr style=\"text-align: right;\">\n",
       "      <th></th>\n",
       "      <th>Amount</th>\n",
       "      <th>V1</th>\n",
       "      <th>V10</th>\n",
       "      <th>V11</th>\n",
       "      <th>V12</th>\n",
       "      <th>V13</th>\n",
       "      <th>V14</th>\n",
       "      <th>V15</th>\n",
       "      <th>V16</th>\n",
       "      <th>V17</th>\n",
       "      <th>...</th>\n",
       "      <th>V26</th>\n",
       "      <th>V27</th>\n",
       "      <th>V28</th>\n",
       "      <th>V3</th>\n",
       "      <th>V4</th>\n",
       "      <th>V5</th>\n",
       "      <th>V6</th>\n",
       "      <th>V7</th>\n",
       "      <th>V8</th>\n",
       "      <th>V9</th>\n",
       "    </tr>\n",
       "    <tr>\n",
       "      <th>Class</th>\n",
       "      <th></th>\n",
       "      <th></th>\n",
       "      <th></th>\n",
       "      <th></th>\n",
       "      <th></th>\n",
       "      <th></th>\n",
       "      <th></th>\n",
       "      <th></th>\n",
       "      <th></th>\n",
       "      <th></th>\n",
       "      <th></th>\n",
       "      <th></th>\n",
       "      <th></th>\n",
       "      <th></th>\n",
       "      <th></th>\n",
       "      <th></th>\n",
       "      <th></th>\n",
       "      <th></th>\n",
       "      <th></th>\n",
       "      <th></th>\n",
       "      <th></th>\n",
       "    </tr>\n",
       "  </thead>\n",
       "  <tbody>\n",
       "    <tr>\n",
       "      <th>'0'</th>\n",
       "      <td>90.421454</td>\n",
       "      <td>-0.024517</td>\n",
       "      <td>0.011382</td>\n",
       "      <td>-0.013546</td>\n",
       "      <td>0.007729</td>\n",
       "      <td>0.001813</td>\n",
       "      <td>0.012003</td>\n",
       "      <td>-0.009159</td>\n",
       "      <td>0.003812</td>\n",
       "      <td>0.011076</td>\n",
       "      <td>...</td>\n",
       "      <td>-0.000428</td>\n",
       "      <td>0.000856</td>\n",
       "      <td>0.000488</td>\n",
       "      <td>0.034111</td>\n",
       "      <td>-0.011519</td>\n",
       "      <td>-0.004635</td>\n",
       "      <td>-0.010261</td>\n",
       "      <td>0.015949</td>\n",
       "      <td>-0.005827</td>\n",
       "      <td>-0.008173</td>\n",
       "    </tr>\n",
       "    <tr>\n",
       "      <th>'1'</th>\n",
       "      <td>112.962467</td>\n",
       "      <td>-4.703757</td>\n",
       "      <td>-5.546566</td>\n",
       "      <td>3.691939</td>\n",
       "      <td>-6.120548</td>\n",
       "      <td>-0.104869</td>\n",
       "      <td>-6.905756</td>\n",
       "      <td>-0.099330</td>\n",
       "      <td>-4.038101</td>\n",
       "      <td>-6.565916</td>\n",
       "      <td>...</td>\n",
       "      <td>0.028668</td>\n",
       "      <td>0.209918</td>\n",
       "      <td>0.092461</td>\n",
       "      <td>-6.914776</td>\n",
       "      <td>4.522026</td>\n",
       "      <td>-3.106686</td>\n",
       "      <td>-1.443250</td>\n",
       "      <td>-5.394067</td>\n",
       "      <td>0.952026</td>\n",
       "      <td>-2.556690</td>\n",
       "    </tr>\n",
       "  </tbody>\n",
       "</table>\n",
       "<p>2 rows × 29 columns</p>\n",
       "</div>"
      ],
      "text/plain": [
       "           Amount        V1       V10       V11       V12       V13       V14  \\\n",
       "Class                                                                           \n",
       "'0'     90.421454 -0.024517  0.011382 -0.013546  0.007729  0.001813  0.012003   \n",
       "'1'    112.962467 -4.703757 -5.546566  3.691939 -6.120548 -0.104869 -6.905756   \n",
       "\n",
       "            V15       V16       V17  ...       V26       V27       V28  \\\n",
       "Class                                ...                                 \n",
       "'0'   -0.009159  0.003812  0.011076  ... -0.000428  0.000856  0.000488   \n",
       "'1'   -0.099330 -4.038101 -6.565916  ...  0.028668  0.209918  0.092461   \n",
       "\n",
       "             V3        V4        V5        V6        V7        V8        V9  \n",
       "Class                                                                        \n",
       "'0'    0.034111 -0.011519 -0.004635 -0.010261  0.015949 -0.005827 -0.008173  \n",
       "'1'   -6.914776  4.522026 -3.106686 -1.443250 -5.394067  0.952026 -2.556690  \n",
       "\n",
       "[2 rows x 29 columns]"
      ]
     },
     "execution_count": 18,
     "metadata": {},
     "output_type": "execute_result"
    }
   ],
   "source": [
    "df.groupby('Class').mean()"
   ]
  },
  {
   "cell_type": "code",
   "execution_count": 19,
   "metadata": {},
   "outputs": [],
   "source": [
    "df['Class']=df['Class'].str.strip(\"'\")"
   ]
  },
  {
   "cell_type": "code",
   "execution_count": 25,
   "metadata": {},
   "outputs": [],
   "source": [
    "df['Class']=df['Class'].str.strip(\".\")"
   ]
  },
  {
   "cell_type": "code",
   "execution_count": 20,
   "metadata": {},
   "outputs": [],
   "source": [
    "df['Class']=df['Class'].astype(float)"
   ]
  },
  {
   "cell_type": "code",
   "execution_count": 21,
   "metadata": {},
   "outputs": [
    {
     "data": {
      "text/plain": [
       "Index(['Amount', 'Class', 'V1', 'V10', 'V11', 'V12', 'V13', 'V14', 'V15',\n",
       "       'V16', 'V17', 'V18', 'V19', 'V2', 'V20', 'V21', 'V22', 'V23', 'V24',\n",
       "       'V25', 'V26', 'V27', 'V28', 'V3', 'V4', 'V5', 'V6', 'V7', 'V8', 'V9',\n",
       "       'source'],\n",
       "      dtype='object')"
      ]
     },
     "execution_count": 21,
     "metadata": {},
     "output_type": "execute_result"
    }
   ],
   "source": [
    "df.columns"
   ]
  },
  {
   "cell_type": "code",
   "execution_count": 22,
   "metadata": {},
   "outputs": [],
   "source": [
    "train_final = df[df.source==\"train\"]\n",
    "test_final = df[df.source==\"test\"]"
   ]
  },
  {
   "cell_type": "code",
   "execution_count": 23,
   "metadata": {},
   "outputs": [],
   "source": [
    "from sklearn.model_selection import train_test_split"
   ]
  },
  {
   "cell_type": "code",
   "execution_count": 24,
   "metadata": {},
   "outputs": [
    {
     "name": "stderr",
     "output_type": "stream",
     "text": [
      "C:\\Users\\Nagi\\Anaconda3\\lib\\site-packages\\pandas\\core\\frame.py:3940: SettingWithCopyWarning: \n",
      "A value is trying to be set on a copy of a slice from a DataFrame\n",
      "\n",
      "See the caveats in the documentation: http://pandas.pydata.org/pandas-docs/stable/indexing.html#indexing-view-versus-copy\n",
      "  errors=errors)\n"
     ]
    }
   ],
   "source": [
    "test_final.drop(['source','Class'], axis=1,inplace=True)\n",
    "X = train_final.drop(['Class','source'], axis=1)\n",
    "Y = train_final['Class']"
   ]
  },
  {
   "cell_type": "code",
   "execution_count": 25,
   "metadata": {},
   "outputs": [],
   "source": [
    "train_X, test_X, train_Y, test_Y = train_test_split(X, Y, test_size=0.2, random_state=1,stratify=Y)"
   ]
  },
  {
   "cell_type": "code",
   "execution_count": 26,
   "metadata": {},
   "outputs": [
    {
     "name": "stdout",
     "output_type": "stream",
     "text": [
      "(177157, 29) (44290, 29) (177157,) (44290,) (56259, 29) (56259, 29)\n"
     ]
    }
   ],
   "source": [
    "test_result=test_final.copy(deep=True)\n",
    "print(train_X.shape,test_X.shape,train_Y.shape,test_Y.shape,test_final.shape,test_result.shape)"
   ]
  },
  {
   "cell_type": "code",
   "execution_count": 65,
   "metadata": {},
   "outputs": [],
   "source": [
    "from sklearn.metrics import confusion_matrix,classification_report,accuracy_score,precision_recall_curve, auc, roc_auc_score, roc_curve, recall_score,f1_score,precision_score\n",
    "from sklearn.preprocessing import StandardScaler\n",
    "from sklearn.preprocessing import PolynomialFeatures\n",
    "from sklearn.model_selection import cross_val_score\n",
    "\n",
    "model_metrics={}\n",
    "def calc_metrics_and_predict(model,model_label,train_X,test_X,train_Y,test_Y, test_final,scaler,cv):\n",
    "    if scaler is not None:\n",
    "        # Scaling\n",
    "        print(\"Scaling applied\")\n",
    "        train_X = scaler.fit_transform(train_X)\n",
    "        test_X = scaler.transform(test_X)\n",
    "    print(\"fit data\")    \n",
    "    model.fit(train_X, train_Y)\n",
    "    print(\"predict data\")\n",
    "    yhat_train = model.predict(train_X)\n",
    "    accuracy=accuracy_score(train_Y,yhat_train)\n",
    "    f1_macro=f1_score(train_Y, yhat_train, average='macro') \n",
    "    f1_micro=f1_score(train_Y, yhat_train, average='micro') \n",
    "    f1_weighted=f1_score(train_Y, yhat_train, average='weighted')\n",
    "    recall=recall_score(train_Y, yhat_train)\n",
    "    precision=precision_score(train_Y, yhat_train)\n",
    "    if cv==True:\n",
    "        print(\"Cross-Validation score\")\n",
    "        scores = cross_val_score(model, train_X, train_Y, cv = 10,scoring='accuracy') \n",
    "        avg_cross_val_score = np.mean(np.sqrt(np.abs(scores)))\n",
    "    else:\n",
    "        avg_cross_val_score=None\n",
    "    #avg_cross_val_score=0\n",
    "    model_metrics[model_label]=[accuracy,f1_macro,f1_micro,f1_weighted,recall,precision,avg_cross_val_score]\n",
    "    # Predict test data and add to test_result dataframe\n",
    "    print(test_result.shape,test_final.shape)\n",
    "    test_final.fillna(0,inplace=True)\n",
    "    test_result[model_label] =  model.predict(test_final.drop('Class',axis=1))\n",
    "    print(test_result.shape,test_final.shape)\n",
    "    return model_metrics"
   ]
  },
  {
   "cell_type": "code",
   "execution_count": 28,
   "metadata": {},
   "outputs": [
    {
     "data": {
      "text/plain": [
       "SelectFromModel(estimator=RandomForestClassifier(bootstrap=True, class_weight=None, criterion='gini',\n",
       "            max_depth=None, max_features='auto', max_leaf_nodes=None,\n",
       "            min_impurity_decrease=0.0, min_impurity_split=None,\n",
       "            min_samples_leaf=1, min_samples_split=2,\n",
       "            min_weight_fraction_leaf=0.0, n_estimators=100, n_jobs=None,\n",
       "            oob_score=False, random_state=None, verbose=0,\n",
       "            warm_start=False),\n",
       "        max_features=None, norm_order=1, prefit=False, threshold=None)"
      ]
     },
     "execution_count": 28,
     "metadata": {},
     "output_type": "execute_result"
    }
   ],
   "source": [
    "from sklearn.feature_selection import SelectFromModel\n",
    "from sklearn.ensemble import RandomForestClassifier, RandomForestRegressor\n",
    "from sklearn.model_selection import cross_val_score, train_test_split, StratifiedKFold\n",
    "sel = SelectFromModel(RandomForestClassifier(n_estimators = 100))\n",
    "sel.fit(train_X, train_Y)"
   ]
  },
  {
   "cell_type": "code",
   "execution_count": 29,
   "metadata": {},
   "outputs": [
    {
     "data": {
      "text/plain": [
       "array([False, False,  True,  True,  True, False,  True, False,  True,\n",
       "        True, False, False, False, False, False, False, False, False,\n",
       "       False, False, False, False, False, False, False, False, False,\n",
       "       False, False])"
      ]
     },
     "execution_count": 29,
     "metadata": {},
     "output_type": "execute_result"
    }
   ],
   "source": [
    "sel.get_support()"
   ]
  },
  {
   "cell_type": "code",
   "execution_count": 30,
   "metadata": {},
   "outputs": [
    {
     "data": {
      "text/plain": [
       "6"
      ]
     },
     "execution_count": 30,
     "metadata": {},
     "output_type": "execute_result"
    }
   ],
   "source": [
    "selected_feat= train_X.columns[(sel.get_support())]\n",
    "len(selected_feat)"
   ]
  },
  {
   "cell_type": "code",
   "execution_count": 31,
   "metadata": {},
   "outputs": [
    {
     "data": {
      "text/plain": [
       "Index(['V10', 'V11', 'V12', 'V14', 'V16', 'V17'], dtype='object')"
      ]
     },
     "execution_count": 31,
     "metadata": {},
     "output_type": "execute_result"
    }
   ],
   "source": [
    "selected_feat"
   ]
  },
  {
   "cell_type": "code",
   "execution_count": 37,
   "metadata": {},
   "outputs": [],
   "source": [
    "df_selected_feat = df[['V10', 'V11', 'V12', 'V14', 'V16', 'V17','source','Class']]"
   ]
  },
  {
   "cell_type": "code",
   "execution_count": 38,
   "metadata": {},
   "outputs": [],
   "source": [
    "train_sel_final = df_selected_feat[df_selected_feat.source==\"train\"]\n",
    "test_sel_final = df_selected_feat[df_selected_feat.source==\"test\"]"
   ]
  },
  {
   "cell_type": "code",
   "execution_count": 39,
   "metadata": {
    "scrolled": false
   },
   "outputs": [
    {
     "name": "stderr",
     "output_type": "stream",
     "text": [
      "C:\\Users\\Nagi\\Anaconda3\\lib\\site-packages\\pandas\\core\\frame.py:3940: SettingWithCopyWarning: \n",
      "A value is trying to be set on a copy of a slice from a DataFrame\n",
      "\n",
      "See the caveats in the documentation: http://pandas.pydata.org/pandas-docs/stable/indexing.html#indexing-view-versus-copy\n",
      "  errors=errors)\n"
     ]
    }
   ],
   "source": [
    "train_sel_final.drop(columns=\"source\",inplace=True)\n",
    "test_sel_final.drop(columns=\"source\",inplace=True)"
   ]
  },
  {
   "cell_type": "code",
   "execution_count": 40,
   "metadata": {},
   "outputs": [],
   "source": [
    "from sklearn.model_selection import cross_val_score\n",
    "from sklearn.linear_model import LinearRegression\n",
    "\n",
    "\n",
    "#split train data\n",
    "train_sel_X = train_sel_final.drop(columns=[\"Class\"])\n",
    "train_sel_Y = train_sel_final[\"Class\"]\n",
    "test_sel_X = test_sel_final.drop(columns=[\"Class\"])\n",
    "test_sel_Y = test_sel_final[\"Class\"]"
   ]
  },
  {
   "cell_type": "code",
   "execution_count": 66,
   "metadata": {
    "scrolled": true
   },
   "outputs": [
    {
     "name": "stdout",
     "output_type": "stream",
     "text": [
      "fit data\n"
     ]
    },
    {
     "name": "stderr",
     "output_type": "stream",
     "text": [
      "C:\\Users\\Nagi\\Anaconda3\\lib\\site-packages\\sklearn\\ensemble\\forest.py:246: FutureWarning: The default value of n_estimators will change from 10 in version 0.20 to 100 in 0.22.\n",
      "  \"10 in version 0.20 to 100 in 0.22.\", FutureWarning)\n"
     ]
    },
    {
     "name": "stdout",
     "output_type": "stream",
     "text": [
      "predict data\n",
      "Cross-Validation score\n",
      "(56259, 29) (56259, 7)\n",
      "(56259, 30) (56259, 7)\n"
     ]
    },
    {
     "name": "stderr",
     "output_type": "stream",
     "text": [
      "C:\\Users\\Nagi\\Anaconda3\\lib\\site-packages\\pandas\\core\\frame.py:4034: SettingWithCopyWarning: \n",
      "A value is trying to be set on a copy of a slice from a DataFrame\n",
      "\n",
      "See the caveats in the documentation: http://pandas.pydata.org/pandas-docs/stable/indexing.html#indexing-view-versus-copy\n",
      "  downcast=downcast, **kwargs)\n"
     ]
    },
    {
     "data": {
      "text/plain": [
       "{'Random Forest': [0.9999322637019241,\n",
       "  0.9898615800559485,\n",
       "  0.9999322637019241,\n",
       "  0.9999316705196484,\n",
       "  0.9628647214854111,\n",
       "  0.9972527472527473,\n",
       "  0.9997741857725796]}"
      ]
     },
     "execution_count": 66,
     "metadata": {},
     "output_type": "execute_result"
    }
   ],
   "source": [
    "from sklearn.ensemble import RandomForestClassifier, RandomForestRegressor\n",
    "from sklearn.model_selection import cross_val_score, train_test_split, StratifiedKFold\n",
    "rmf_sel = RandomForestClassifier(n_jobs = -1)\n",
    "model_metrics=calc_metrics_and_predict(rmf_sel,'Random Forest',train_sel_X,test_sel_X,train_sel_Y,test_sel_Y,test_sel_final,None, True)\n",
    "model_metrics"
   ]
  },
  {
   "cell_type": "code",
   "execution_count": 64,
   "metadata": {},
   "outputs": [
    {
     "data": {
      "text/html": [
       "<div>\n",
       "<style scoped>\n",
       "    .dataframe tbody tr th:only-of-type {\n",
       "        vertical-align: middle;\n",
       "    }\n",
       "\n",
       "    .dataframe tbody tr th {\n",
       "        vertical-align: top;\n",
       "    }\n",
       "\n",
       "    .dataframe thead th {\n",
       "        text-align: right;\n",
       "    }\n",
       "</style>\n",
       "<table border=\"1\" class=\"dataframe\">\n",
       "  <thead>\n",
       "    <tr style=\"text-align: right;\">\n",
       "      <th></th>\n",
       "      <th>Amount</th>\n",
       "      <th>Class</th>\n",
       "      <th>V1</th>\n",
       "      <th>V10</th>\n",
       "      <th>V11</th>\n",
       "      <th>V12</th>\n",
       "      <th>V13</th>\n",
       "      <th>V14</th>\n",
       "      <th>V15</th>\n",
       "      <th>V16</th>\n",
       "      <th>...</th>\n",
       "      <th>V27</th>\n",
       "      <th>V28</th>\n",
       "      <th>V3</th>\n",
       "      <th>V4</th>\n",
       "      <th>V5</th>\n",
       "      <th>V6</th>\n",
       "      <th>V7</th>\n",
       "      <th>V8</th>\n",
       "      <th>V9</th>\n",
       "      <th>source</th>\n",
       "    </tr>\n",
       "  </thead>\n",
       "  <tbody>\n",
       "    <tr>\n",
       "      <th>0</th>\n",
       "      <td>4.0</td>\n",
       "      <td>0.0</td>\n",
       "      <td>-1.456417</td>\n",
       "      <td>-1.138995</td>\n",
       "      <td>-0.715508</td>\n",
       "      <td>-0.254224</td>\n",
       "      <td>-1.846171</td>\n",
       "      <td>1.245659</td>\n",
       "      <td>-0.971792</td>\n",
       "      <td>1.078462</td>\n",
       "      <td>...</td>\n",
       "      <td>0.067085</td>\n",
       "      <td>0.072365</td>\n",
       "      <td>-0.635254</td>\n",
       "      <td>-2.765440</td>\n",
       "      <td>0.282230</td>\n",
       "      <td>-0.758234</td>\n",
       "      <td>0.365270</td>\n",
       "      <td>0.927673</td>\n",
       "      <td>0.033947</td>\n",
       "      <td>train</td>\n",
       "    </tr>\n",
       "    <tr>\n",
       "      <th>1</th>\n",
       "      <td>11.8</td>\n",
       "      <td>0.0</td>\n",
       "      <td>-0.879383</td>\n",
       "      <td>-0.293550</td>\n",
       "      <td>-0.381957</td>\n",
       "      <td>0.326399</td>\n",
       "      <td>0.417563</td>\n",
       "      <td>0.601584</td>\n",
       "      <td>1.204848</td>\n",
       "      <td>-0.519876</td>\n",
       "      <td>...</td>\n",
       "      <td>0.314182</td>\n",
       "      <td>0.120301</td>\n",
       "      <td>0.834804</td>\n",
       "      <td>0.904867</td>\n",
       "      <td>0.164135</td>\n",
       "      <td>-0.486903</td>\n",
       "      <td>0.286551</td>\n",
       "      <td>0.437374</td>\n",
       "      <td>-0.751725</td>\n",
       "      <td>train</td>\n",
       "    </tr>\n",
       "    <tr>\n",
       "      <th>2</th>\n",
       "      <td>14.0</td>\n",
       "      <td>0.0</td>\n",
       "      <td>1.270210</td>\n",
       "      <td>0.731290</td>\n",
       "      <td>1.785716</td>\n",
       "      <td>0.214798</td>\n",
       "      <td>0.189485</td>\n",
       "      <td>-0.214334</td>\n",
       "      <td>0.649570</td>\n",
       "      <td>1.323136</td>\n",
       "      <td>...</td>\n",
       "      <td>0.050163</td>\n",
       "      <td>0.014809</td>\n",
       "      <td>1.070372</td>\n",
       "      <td>-0.745716</td>\n",
       "      <td>-1.365979</td>\n",
       "      <td>-0.049645</td>\n",
       "      <td>-1.197854</td>\n",
       "      <td>0.207163</td>\n",
       "      <td>-0.677824</td>\n",
       "      <td>train</td>\n",
       "    </tr>\n",
       "    <tr>\n",
       "      <th>3</th>\n",
       "      <td>32.0</td>\n",
       "      <td>0.0</td>\n",
       "      <td>1.967062</td>\n",
       "      <td>-0.224304</td>\n",
       "      <td>0.938790</td>\n",
       "      <td>0.958131</td>\n",
       "      <td>0.411124</td>\n",
       "      <td>-0.957568</td>\n",
       "      <td>-1.072667</td>\n",
       "      <td>0.047732</td>\n",
       "      <td>...</td>\n",
       "      <td>-0.005402</td>\n",
       "      <td>-0.030380</td>\n",
       "      <td>-2.472415</td>\n",
       "      <td>1.290097</td>\n",
       "      <td>1.284233</td>\n",
       "      <td>-0.398478</td>\n",
       "      <td>0.641294</td>\n",
       "      <td>-0.209637</td>\n",
       "      <td>-0.219990</td>\n",
       "      <td>train</td>\n",
       "    </tr>\n",
       "    <tr>\n",
       "      <th>4</th>\n",
       "      <td>64.9</td>\n",
       "      <td>0.0</td>\n",
       "      <td>-0.626555</td>\n",
       "      <td>-0.506793</td>\n",
       "      <td>-0.609644</td>\n",
       "      <td>0.231146</td>\n",
       "      <td>0.504067</td>\n",
       "      <td>0.584423</td>\n",
       "      <td>0.930015</td>\n",
       "      <td>-0.210375</td>\n",
       "      <td>...</td>\n",
       "      <td>0.031509</td>\n",
       "      <td>0.106962</td>\n",
       "      <td>0.871426</td>\n",
       "      <td>0.950972</td>\n",
       "      <td>-0.311923</td>\n",
       "      <td>-0.711223</td>\n",
       "      <td>0.686529</td>\n",
       "      <td>0.214618</td>\n",
       "      <td>-0.916320</td>\n",
       "      <td>train</td>\n",
       "    </tr>\n",
       "  </tbody>\n",
       "</table>\n",
       "<p>5 rows × 31 columns</p>\n",
       "</div>"
      ],
      "text/plain": [
       "   Amount  Class        V1       V10       V11       V12       V13       V14  \\\n",
       "0     4.0    0.0 -1.456417 -1.138995 -0.715508 -0.254224 -1.846171  1.245659   \n",
       "1    11.8    0.0 -0.879383 -0.293550 -0.381957  0.326399  0.417563  0.601584   \n",
       "2    14.0    0.0  1.270210  0.731290  1.785716  0.214798  0.189485 -0.214334   \n",
       "3    32.0    0.0  1.967062 -0.224304  0.938790  0.958131  0.411124 -0.957568   \n",
       "4    64.9    0.0 -0.626555 -0.506793 -0.609644  0.231146  0.504067  0.584423   \n",
       "\n",
       "        V15       V16  ...       V27       V28        V3        V4        V5  \\\n",
       "0 -0.971792  1.078462  ...  0.067085  0.072365 -0.635254 -2.765440  0.282230   \n",
       "1  1.204848 -0.519876  ...  0.314182  0.120301  0.834804  0.904867  0.164135   \n",
       "2  0.649570  1.323136  ...  0.050163  0.014809  1.070372 -0.745716 -1.365979   \n",
       "3 -1.072667  0.047732  ... -0.005402 -0.030380 -2.472415  1.290097  1.284233   \n",
       "4  0.930015 -0.210375  ...  0.031509  0.106962  0.871426  0.950972 -0.311923   \n",
       "\n",
       "         V6        V7        V8        V9  source  \n",
       "0 -0.758234  0.365270  0.927673  0.033947   train  \n",
       "1 -0.486903  0.286551  0.437374 -0.751725   train  \n",
       "2 -0.049645 -1.197854  0.207163 -0.677824   train  \n",
       "3 -0.398478  0.641294 -0.209637 -0.219990   train  \n",
       "4 -0.711223  0.686529  0.214618 -0.916320   train  \n",
       "\n",
       "[5 rows x 31 columns]"
      ]
     },
     "execution_count": 64,
     "metadata": {},
     "output_type": "execute_result"
    }
   ],
   "source": [
    "train_final.head()"
   ]
  },
  {
   "cell_type": "code",
   "execution_count": 73,
   "metadata": {},
   "outputs": [
    {
     "data": {
      "text/plain": [
       "array([0.])"
      ]
     },
     "execution_count": 73,
     "metadata": {},
     "output_type": "execute_result"
    }
   ],
   "source": [
    "test_sel_final.Class.unique()"
   ]
  },
  {
   "cell_type": "code",
   "execution_count": 67,
   "metadata": {},
   "outputs": [
    {
     "data": {
      "text/html": [
       "<div>\n",
       "<style scoped>\n",
       "    .dataframe tbody tr th:only-of-type {\n",
       "        vertical-align: middle;\n",
       "    }\n",
       "\n",
       "    .dataframe tbody tr th {\n",
       "        vertical-align: top;\n",
       "    }\n",
       "\n",
       "    .dataframe thead th {\n",
       "        text-align: right;\n",
       "    }\n",
       "</style>\n",
       "<table border=\"1\" class=\"dataframe\">\n",
       "  <thead>\n",
       "    <tr style=\"text-align: right;\">\n",
       "      <th></th>\n",
       "      <th>V10</th>\n",
       "      <th>V11</th>\n",
       "      <th>V12</th>\n",
       "      <th>V14</th>\n",
       "      <th>V16</th>\n",
       "      <th>V17</th>\n",
       "      <th>Class</th>\n",
       "    </tr>\n",
       "  </thead>\n",
       "  <tbody>\n",
       "    <tr>\n",
       "      <th>0</th>\n",
       "      <td>-1.138995</td>\n",
       "      <td>-0.715508</td>\n",
       "      <td>-0.254224</td>\n",
       "      <td>1.245659</td>\n",
       "      <td>1.078462</td>\n",
       "      <td>-0.978420</td>\n",
       "      <td>0.0</td>\n",
       "    </tr>\n",
       "    <tr>\n",
       "      <th>1</th>\n",
       "      <td>-0.293550</td>\n",
       "      <td>-0.381957</td>\n",
       "      <td>0.326399</td>\n",
       "      <td>0.601584</td>\n",
       "      <td>-0.519876</td>\n",
       "      <td>0.241959</td>\n",
       "      <td>0.0</td>\n",
       "    </tr>\n",
       "    <tr>\n",
       "      <th>2</th>\n",
       "      <td>0.731290</td>\n",
       "      <td>1.785716</td>\n",
       "      <td>0.214798</td>\n",
       "      <td>-0.214334</td>\n",
       "      <td>1.323136</td>\n",
       "      <td>0.156679</td>\n",
       "      <td>0.0</td>\n",
       "    </tr>\n",
       "    <tr>\n",
       "      <th>3</th>\n",
       "      <td>-0.224304</td>\n",
       "      <td>0.938790</td>\n",
       "      <td>0.958131</td>\n",
       "      <td>-0.957568</td>\n",
       "      <td>0.047732</td>\n",
       "      <td>0.575615</td>\n",
       "      <td>0.0</td>\n",
       "    </tr>\n",
       "    <tr>\n",
       "      <th>4</th>\n",
       "      <td>-0.506793</td>\n",
       "      <td>-0.609644</td>\n",
       "      <td>0.231146</td>\n",
       "      <td>0.584423</td>\n",
       "      <td>-0.210375</td>\n",
       "      <td>-0.049258</td>\n",
       "      <td>0.0</td>\n",
       "    </tr>\n",
       "  </tbody>\n",
       "</table>\n",
       "</div>"
      ],
      "text/plain": [
       "        V10       V11       V12       V14       V16       V17  Class\n",
       "0 -1.138995 -0.715508 -0.254224  1.245659  1.078462 -0.978420    0.0\n",
       "1 -0.293550 -0.381957  0.326399  0.601584 -0.519876  0.241959    0.0\n",
       "2  0.731290  1.785716  0.214798 -0.214334  1.323136  0.156679    0.0\n",
       "3 -0.224304  0.938790  0.958131 -0.957568  0.047732  0.575615    0.0\n",
       "4 -0.506793 -0.609644  0.231146  0.584423 -0.210375 -0.049258    0.0"
      ]
     },
     "execution_count": 67,
     "metadata": {},
     "output_type": "execute_result"
    }
   ],
   "source": [
    "train_sel_final.head()"
   ]
  },
  {
   "cell_type": "code",
   "execution_count": 81,
   "metadata": {},
   "outputs": [
    {
     "ename": "ModuleNotFoundError",
     "evalue": "No module named 'imblearn'",
     "output_type": "error",
     "traceback": [
      "\u001b[1;31m---------------------------------------------------------------------------\u001b[0m",
      "\u001b[1;31mModuleNotFoundError\u001b[0m                       Traceback (most recent call last)",
      "\u001b[1;32m<ipython-input-81-0b052d41b57a>\u001b[0m in \u001b[0;36m<module>\u001b[1;34m\u001b[0m\n\u001b[1;32m----> 1\u001b[1;33m \u001b[1;32mfrom\u001b[0m \u001b[0mimblearn\u001b[0m\u001b[1;33m.\u001b[0m\u001b[0mover_sampling\u001b[0m \u001b[1;32mimport\u001b[0m \u001b[0mSMOTE\u001b[0m\u001b[1;33m\u001b[0m\u001b[1;33m\u001b[0m\u001b[0m\n\u001b[0m",
      "\u001b[1;31mModuleNotFoundError\u001b[0m: No module named 'imblearn'"
     ]
    }
   ],
   "source": [
    "from imblearn.over_sampling import SMOTE"
   ]
  },
  {
   "cell_type": "code",
   "execution_count": 80,
   "metadata": {},
   "outputs": [
    {
     "name": "stdout",
     "output_type": "stream",
     "text": [
      "Collecting imblearn\n",
      "  Using cached https://files.pythonhosted.org/packages/81/a7/4179e6ebfd654bd0eac0b9c06125b8b4c96a9d0a8ff9e9507eb2a26d2d7e/imblearn-0.0-py2.py3-none-any.whl\n",
      "Collecting imbalanced-learn (from imblearn)\n",
      "  Using cached https://files.pythonhosted.org/packages/e6/62/08c14224a7e242df2cef7b312d2ef821c3931ec9b015ff93bb52ec8a10a3/imbalanced_learn-0.5.0-py3-none-any.whl\n",
      "Requirement already satisfied: joblib>=0.11 in c:\\users\\nagi\\anaconda3\\lib\\site-packages (from imbalanced-learn->imblearn) (0.13.2)\n",
      "Requirement already satisfied: numpy>=1.11 in c:\\users\\nagi\\anaconda3\\lib\\site-packages (from imbalanced-learn->imblearn) (1.16.2)\n",
      "Requirement already satisfied: scikit-learn>=0.21 in c:\\users\\nagi\\anaconda3\\lib\\site-packages (from imbalanced-learn->imblearn) (0.21.3)\n",
      "Requirement already satisfied: scipy>=0.17 in c:\\users\\nagi\\anaconda3\\lib\\site-packages (from imbalanced-learn->imblearn) (1.2.1)\n",
      "Installing collected packages: imbalanced-learn, imblearn\n",
      "Successfully installed imbalanced-learn-0.5.0 imblearn-0.0\n"
     ]
    }
   ],
   "source": [
    "! pip install --user imblearn"
   ]
  },
  {
   "cell_type": "code",
   "execution_count": 82,
   "metadata": {},
   "outputs": [
    {
     "name": "stdout",
     "output_type": "stream",
     "text": [
      "Collecting imblearn.over_sampling\n"
     ]
    },
    {
     "name": "stderr",
     "output_type": "stream",
     "text": [
      "  Could not find a version that satisfies the requirement imblearn.over_sampling (from versions: )\n",
      "No matching distribution found for imblearn.over_sampling\n"
     ]
    }
   ],
   "source": [
    "! pip install --user imblearn.over_sampling"
   ]
  },
  {
   "cell_type": "code",
   "execution_count": null,
   "metadata": {},
   "outputs": [],
   "source": []
  }
 ],
 "metadata": {
  "kernelspec": {
   "display_name": "Python 3",
   "language": "python",
   "name": "python3"
  },
  "language_info": {
   "codemirror_mode": {
    "name": "ipython",
    "version": 3
   },
   "file_extension": ".py",
   "mimetype": "text/x-python",
   "name": "python",
   "nbconvert_exporter": "python",
   "pygments_lexer": "ipython3",
   "version": "3.7.3"
  }
 },
 "nbformat": 4,
 "nbformat_minor": 2
}
